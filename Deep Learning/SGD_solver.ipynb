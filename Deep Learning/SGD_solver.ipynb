{
 "cells": [
  {
   "cell_type": "markdown",
   "metadata": {},
   "source": [
    "#### Build your own solver of Stochastic Gradient Descent.  Do not use built-in solvers from any deep learning packages. In this problem, you will use stochasticgradient descent "
   ]
  },
  {
   "cell_type": "markdown",
   "metadata": {},
   "source": [
    "### Part a)<br>\n",
    "Write the closed-form expression for the minimizer y*\n",
    "<br><br>\n",
    "let's say L = $min_{y}$ $\\frac{1}{n}$ $\\sum_{i=1}^{n} |y - x_i|^2$\n",
    "<br><br>\n",
    "to minimize over y\n",
    "<br><br>\n",
    "$$\n",
    "\\begin{aligned}\n",
    "\\frac{\\partial L}{\\partial y} = 0 \\\\\n",
    "\\therefore \\frac{1}{n} \\sum_{i=1}^{n} 2|y - x_i| = 0 \\\\\n",
    "\\frac{2}{n} \\sum_{i=1}^{n} |y - x_i| = 0 \\\\\n",
    "\\frac{2}{n} (\\sum_{i=1}^{n} y - \\sum_{i=1}^{n} x_i )= 0 \\\\\n",
    "\\frac{2}{n} (ny - \\sum_{i=1}^{n} x_i )= 0 \\\\\n",
    "2y = \\frac{2}{n} \\sum_{i=1}^{n} x_i\\\\\n",
    "y* = \\frac{1}{n} \\sum_{i=1}^{n} x_i \\\\\n",
    "\\end{aligned}\n",
    "$$"
   ]
  },
  {
   "cell_type": "markdown",
   "metadata": {},
   "source": [
    "### Part b)<br>"
   ]
  },
  {
   "cell_type": "code",
   "execution_count": 1,
   "metadata": {},
   "outputs": [],
   "source": [
    "import torch\n",
    "import matplotlib.pyplot as plt\n",
    "import numpy as np"
   ]
  },
  {
   "cell_type": "markdown",
   "metadata": {},
   "source": [
    "Now we generate a distribution for ${x_i}$ ~ $Uniform[0,1]$ for i=1 ... 100 <br>\n",
    "We make Y a variable with requires grad = True as we want to minimize y <br>\n",
    "The function G(X) is defined as equation (1) <br>\n",
    "The function criterion() finds the MSE between the two inputs given to it <br>"
   ]
  },
  {
   "cell_type": "code",
   "execution_count": 2,
   "metadata": {},
   "outputs": [],
   "source": [
    "x = torch.rand(100)\n",
    "y = torch.tensor(1.0, requires_grad=True)\n",
    "\n",
    "def G(x):\n",
    "    return (y-x)**2\n",
    "\n",
    "def criterion(yhat,y):\n",
    "    return torch.mean((yhat-y)**2)"
   ]
  },
  {
   "cell_type": "markdown",
   "metadata": {},
   "source": [
    "After Initializing all the values let us optimize y with two learning rates 0.0001 and 0.001 for 100 epochs and save the observations to plot later.<br>\n",
    "We also calculate the loss per each epoch. To calculate the loss we first need to know the $y*$.<br>\n",
    "<br>\n",
    "From the derivation above we know that $y*$ is the mean of the distribution of x. As we know that x is a uniform distribution we can calculate its mean and use this as out y actual to find the mean squared error.<br>\n",
    "Mean of Uniform Distribution = \n",
    "$$\n",
    "\\begin{aligned}\n",
    "\\frac{max(x) - min(x)}{2} \\\\\n",
    "= \\frac{1 - 0}{2} \\\\\n",
    "= 0.5\n",
    "\\end{aligned}\n",
    "$$"
   ]
  },
  {
   "cell_type": "code",
   "execution_count": 5,
   "metadata": {},
   "outputs": [],
   "source": [
    "y = torch.tensor(1.0, requires_grad=True)\n",
    "lr = 0.0001\n",
    "y_values_lr_1 = []\n",
    "losses_lr_1 = []\n",
    "y_s = []\n",
    "for epoch in range(100):\n",
    "    for val in x:\n",
    "        yhat = G(val)\n",
    "        yhat.backward()\n",
    "        y.data = y.data - lr*y.grad.data\n",
    "        y.grad.data.zero_()\n",
    "        y_s.append(y.data)\n",
    "    losses_lr_1.append(criterion(torch.FloatTensor(y_s),0.5))\n",
    "    y_s=[]\n",
    "    y_values_lr_1.append(y.data)\n",
    "\n",
    "y = torch.tensor(1.0, requires_grad=True)\n",
    "lr = 0.001\n",
    "y_values_lr_2 = []\n",
    "y_s = []\n",
    "losses_lr_2 = []\n",
    "for epoch in range(100):\n",
    "    for val in x:\n",
    "        yhat = G(val)\n",
    "        yhat.backward()\n",
    "        y.data = y.data - lr*y.grad.data\n",
    "        y.grad.data.zero_()\n",
    "        y_s.append(y.data)\n",
    "    losses_lr_2.append(criterion(torch.FloatTensor(y_s),0.5))\n",
    "    y_s=[]\n",
    "    y_values_lr_2.append(y.data)"
   ]
  },
  {
   "cell_type": "markdown",
   "metadata": {},
   "source": [
    "We now use the losses from both the optimizations with the different Learning rates to plot the loss graph."
   ]
  },
  {
   "cell_type": "code",
   "execution_count": 6,
   "metadata": {},
   "outputs": [
    {
     "data": {
      "image/png": "[encoded data removed]",
      "text/plain": [
       "<Figure size 1440x504 with 2 Axes>"
      ]
     },
     "metadata": {
      "needs_background": "light"
     },
     "output_type": "display_data"
    }
   ],
   "source": [
    "plt.figure(figsize=(20,7))\n",
    "\n",
    "plt.subplot(1, 2, 1)\n",
    "plt.title('Loss with learning rate 0.0001')\n",
    "plt.plot(losses_lr_1, color='blue', label='loss')\n",
    "plt.legend()\n",
    "plt.xlabel(\"Number of Iterations\", fontweight='bold')\n",
    "\n",
    "plt.subplot(1, 2, 2)\n",
    "plt.title('Loss with learning rate 0.001')\n",
    "plt.plot(losses_lr_2, color='blue', label='loss')\n",
    "plt.legend()\n",
    "plt.xlabel(\"Number of Iterations\", fontweight='bold')\n",
    "\n",
    "plt.show()"
   ]
  },
  {
   "cell_type": "markdown",
   "metadata": {},
   "source": [
    "We can see that the graph with a higher learning rate converges way earlier than optimization using a smaller learning rate."
   ]
  }
 ],
 "metadata": {
  "kernelspec": {
   "display_name": "Python 3",
   "language": "python",
   "name": "python3"
  },
  "language_info": {
   "codemirror_mode": {
    "name": "ipython",
    "version": 3
   },
   "file_extension": ".py",
   "mimetype": "text/x-python",
   "name": "python",
   "nbconvert_exporter": "python",
   "pygments_lexer": "ipython3",
   "version": "3.7.7"
  }
 },
 "nbformat": 4,
 "nbformat_minor": 5
}
